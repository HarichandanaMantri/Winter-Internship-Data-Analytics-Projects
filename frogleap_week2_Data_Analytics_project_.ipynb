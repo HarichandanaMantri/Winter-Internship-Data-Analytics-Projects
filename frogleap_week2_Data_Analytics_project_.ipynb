{
  "nbformat": 4,
  "nbformat_minor": 0,
  "metadata": {
    "colab": {
      "provenance": []
    },
    "kernelspec": {
      "name": "python3",
      "display_name": "Python 3"
    },
    "language_info": {
      "name": "python"
    }
  },
  "cells": [
    {
      "cell_type": "code",
      "source": [
        "def display_board(positions):\n",
        "    print(\"[ 0 , 1 , 2 , 3 , 4 , 5 , 6 ]\")\n",
        "    print(positions)\n",
        "\n",
        "\n",
        "def frog_leap_game():\n",
        "    positions = ['G', 'G', 'G', '-', 'B', 'B', 'B']\n",
        "\n",
        "    while True:\n",
        "        display_board(positions)\n",
        "\n",
        "        move = input(\"Enter the position of the frog to move (0-6, or 'q' to quit): \")\n",
        "\n",
        "        if move.lower() == 'q':\n",
        "            print(\"Quitting the game. Bye!\")\n",
        "            break\n",
        "\n",
        "        try:\n",
        "            move = int(move)\n",
        "        except ValueError:\n",
        "            print(\"Invalid input. Please enter a number between 0 and 6 or 'q' to quit.\")\n",
        "            continue\n",
        "\n",
        "        if move < 0 or move > 6:\n",
        "            print(\"Invalid move. Position should be between 0 and 6.\")\n",
        "            continue\n",
        "\n",
        "        if positions[move] == '-':\n",
        "            print(\"Invalid move. Position cannot be the empty leaf.\")\n",
        "            continue\n",
        "\n",
        "        if move > 0 and positions[move - 1] == '-' and positions[move] == 'G':\n",
        "            positions[move - 1], positions[move] = positions[move], positions[move - 1]\n",
        "        elif move < 6 and positions[move + 1] == '-' and positions[move] == 'B':\n",
        "            positions[move + 1], positions[move] = positions[move], positions[move + 1]\n",
        "        elif move > 1 and positions[move - 2] == '-' and positions[move - 1] == 'G' and positions[move] == 'G':\n",
        "            positions[move - 2], positions[move] = positions[move], positions[move - 2]\n",
        "        elif move < 5 and positions[move + 2] == '-' and positions[move + 1] == 'B' and positions[move] == 'B':\n",
        "            positions[move + 2], positions[move] = positions[move], positions[move + 2]\n",
        "        else:\n",
        "            print(\"Invalid move. The selected frog cannot perform the given constraints.\")\n",
        "\n",
        "        if positions == ['B', 'B', 'B', '-', 'G', 'G', 'G']:\n",
        "            display_board(positions)\n",
        "            print(\"Congratulations! You solved the puzzle.\")\n",
        "            break\n",
        "\n",
        "if __name__ == \"_main_\":\n",
        "    frog_leap_game()"
      ],
      "metadata": {
        "id": "W7GM89X9JNAN"
      },
      "execution_count": 1,
      "outputs": []
    }
  ]
}