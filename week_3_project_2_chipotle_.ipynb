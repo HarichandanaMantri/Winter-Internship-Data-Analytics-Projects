{
  "nbformat": 4,
  "nbformat_minor": 0,
  "metadata": {
    "colab": {
      "provenance": []
    },
    "kernelspec": {
      "name": "python3",
      "display_name": "Python 3"
    },
    "language_info": {
      "name": "python"
    }
  },
  "cells": [
    {
      "cell_type": "code",
      "execution_count": 50,
      "metadata": {
        "id": "mCYkzj-vTfdh"
      },
      "outputs": [],
      "source": [
        "#import librabries\n",
        "import numpy as np\n",
        "import pandas as pd"
      ]
    },
    {
      "cell_type": "code",
      "source": [
        "# Assuming your dataset is stored in a DataFrame named 'df"
      ],
      "metadata": {
        "id": "hwLoQvrQT6ej"
      },
      "execution_count": 2,
      "outputs": []
    },
    {
      "cell_type": "code",
      "source": [
        "df = pd.read_csv(\"chipotle.tsv\",sep='\\t')\n",
        "df"
      ],
      "metadata": {
        "colab": {
          "base_uri": "https://localhost:8080/",
          "height": 423
        },
        "id": "xGhyQuAIUC4G",
        "outputId": "f4d338b4-38f6-4b0f-981e-43d357951aa3"
      },
      "execution_count": 3,
      "outputs": [
        {
          "output_type": "execute_result",
          "data": {
            "text/plain": [
              "      order_id  quantity                              item_name  \\\n",
              "0            1         1           Chips and Fresh Tomato Salsa   \n",
              "1            1         1                                   Izze   \n",
              "2            1         1                       Nantucket Nectar   \n",
              "3            1         1  Chips and Tomatillo-Green Chili Salsa   \n",
              "4            2         2                           Chicken Bowl   \n",
              "...        ...       ...                                    ...   \n",
              "4617      1833         1                          Steak Burrito   \n",
              "4618      1833         1                          Steak Burrito   \n",
              "4619      1834         1                     Chicken Salad Bowl   \n",
              "4620      1834         1                     Chicken Salad Bowl   \n",
              "4621      1834         1                     Chicken Salad Bowl   \n",
              "\n",
              "                                     choice_description item_price  \n",
              "0                                                   NaN     $2.39   \n",
              "1                                          [Clementine]     $3.39   \n",
              "2                                               [Apple]     $3.39   \n",
              "3                                                   NaN     $2.39   \n",
              "4     [Tomatillo-Red Chili Salsa (Hot), [Black Beans...    $16.98   \n",
              "...                                                 ...        ...  \n",
              "4617  [Fresh Tomato Salsa, [Rice, Black Beans, Sour ...    $11.75   \n",
              "4618  [Fresh Tomato Salsa, [Rice, Sour Cream, Cheese...    $11.75   \n",
              "4619  [Fresh Tomato Salsa, [Fajita Vegetables, Pinto...    $11.25   \n",
              "4620  [Fresh Tomato Salsa, [Fajita Vegetables, Lettu...     $8.75   \n",
              "4621  [Fresh Tomato Salsa, [Fajita Vegetables, Pinto...     $8.75   \n",
              "\n",
              "[4622 rows x 5 columns]"
            ],
            "text/html": [
              "\n",
              "  <div id=\"df-2970d08f-2a89-4b8f-86d0-d08145d4ec96\" class=\"colab-df-container\">\n",
              "    <div>\n",
              "<style scoped>\n",
              "    .dataframe tbody tr th:only-of-type {\n",
              "        vertical-align: middle;\n",
              "    }\n",
              "\n",
              "    .dataframe tbody tr th {\n",
              "        vertical-align: top;\n",
              "    }\n",
              "\n",
              "    .dataframe thead th {\n",
              "        text-align: right;\n",
              "    }\n",
              "</style>\n",
              "<table border=\"1\" class=\"dataframe\">\n",
              "  <thead>\n",
              "    <tr style=\"text-align: right;\">\n",
              "      <th></th>\n",
              "      <th>order_id</th>\n",
              "      <th>quantity</th>\n",
              "      <th>item_name</th>\n",
              "      <th>choice_description</th>\n",
              "      <th>item_price</th>\n",
              "    </tr>\n",
              "  </thead>\n",
              "  <tbody>\n",
              "    <tr>\n",
              "      <th>0</th>\n",
              "      <td>1</td>\n",
              "      <td>1</td>\n",
              "      <td>Chips and Fresh Tomato Salsa</td>\n",
              "      <td>NaN</td>\n",
              "      <td>$2.39</td>\n",
              "    </tr>\n",
              "    <tr>\n",
              "      <th>1</th>\n",
              "      <td>1</td>\n",
              "      <td>1</td>\n",
              "      <td>Izze</td>\n",
              "      <td>[Clementine]</td>\n",
              "      <td>$3.39</td>\n",
              "    </tr>\n",
              "    <tr>\n",
              "      <th>2</th>\n",
              "      <td>1</td>\n",
              "      <td>1</td>\n",
              "      <td>Nantucket Nectar</td>\n",
              "      <td>[Apple]</td>\n",
              "      <td>$3.39</td>\n",
              "    </tr>\n",
              "    <tr>\n",
              "      <th>3</th>\n",
              "      <td>1</td>\n",
              "      <td>1</td>\n",
              "      <td>Chips and Tomatillo-Green Chili Salsa</td>\n",
              "      <td>NaN</td>\n",
              "      <td>$2.39</td>\n",
              "    </tr>\n",
              "    <tr>\n",
              "      <th>4</th>\n",
              "      <td>2</td>\n",
              "      <td>2</td>\n",
              "      <td>Chicken Bowl</td>\n",
              "      <td>[Tomatillo-Red Chili Salsa (Hot), [Black Beans...</td>\n",
              "      <td>$16.98</td>\n",
              "    </tr>\n",
              "    <tr>\n",
              "      <th>...</th>\n",
              "      <td>...</td>\n",
              "      <td>...</td>\n",
              "      <td>...</td>\n",
              "      <td>...</td>\n",
              "      <td>...</td>\n",
              "    </tr>\n",
              "    <tr>\n",
              "      <th>4617</th>\n",
              "      <td>1833</td>\n",
              "      <td>1</td>\n",
              "      <td>Steak Burrito</td>\n",
              "      <td>[Fresh Tomato Salsa, [Rice, Black Beans, Sour ...</td>\n",
              "      <td>$11.75</td>\n",
              "    </tr>\n",
              "    <tr>\n",
              "      <th>4618</th>\n",
              "      <td>1833</td>\n",
              "      <td>1</td>\n",
              "      <td>Steak Burrito</td>\n",
              "      <td>[Fresh Tomato Salsa, [Rice, Sour Cream, Cheese...</td>\n",
              "      <td>$11.75</td>\n",
              "    </tr>\n",
              "    <tr>\n",
              "      <th>4619</th>\n",
              "      <td>1834</td>\n",
              "      <td>1</td>\n",
              "      <td>Chicken Salad Bowl</td>\n",
              "      <td>[Fresh Tomato Salsa, [Fajita Vegetables, Pinto...</td>\n",
              "      <td>$11.25</td>\n",
              "    </tr>\n",
              "    <tr>\n",
              "      <th>4620</th>\n",
              "      <td>1834</td>\n",
              "      <td>1</td>\n",
              "      <td>Chicken Salad Bowl</td>\n",
              "      <td>[Fresh Tomato Salsa, [Fajita Vegetables, Lettu...</td>\n",
              "      <td>$8.75</td>\n",
              "    </tr>\n",
              "    <tr>\n",
              "      <th>4621</th>\n",
              "      <td>1834</td>\n",
              "      <td>1</td>\n",
              "      <td>Chicken Salad Bowl</td>\n",
              "      <td>[Fresh Tomato Salsa, [Fajita Vegetables, Pinto...</td>\n",
              "      <td>$8.75</td>\n",
              "    </tr>\n",
              "  </tbody>\n",
              "</table>\n",
              "<p>4622 rows × 5 columns</p>\n",
              "</div>\n",
              "    <div class=\"colab-df-buttons\">\n",
              "\n",
              "  <div class=\"colab-df-container\">\n",
              "    <button class=\"colab-df-convert\" onclick=\"convertToInteractive('df-2970d08f-2a89-4b8f-86d0-d08145d4ec96')\"\n",
              "            title=\"Convert this dataframe to an interactive table.\"\n",
              "            style=\"display:none;\">\n",
              "\n",
              "  <svg xmlns=\"http://www.w3.org/2000/svg\" height=\"24px\" viewBox=\"0 -960 960 960\">\n",
              "    <path d=\"M120-120v-720h720v720H120Zm60-500h600v-160H180v160Zm220 220h160v-160H400v160Zm0 220h160v-160H400v160ZM180-400h160v-160H180v160Zm440 0h160v-160H620v160ZM180-180h160v-160H180v160Zm440 0h160v-160H620v160Z\"/>\n",
              "  </svg>\n",
              "    </button>\n",
              "\n",
              "  <style>\n",
              "    .colab-df-container {\n",
              "      display:flex;\n",
              "      gap: 12px;\n",
              "    }\n",
              "\n",
              "    .colab-df-convert {\n",
              "      background-color: #E8F0FE;\n",
              "      border: none;\n",
              "      border-radius: 50%;\n",
              "      cursor: pointer;\n",
              "      display: none;\n",
              "      fill: #1967D2;\n",
              "      height: 32px;\n",
              "      padding: 0 0 0 0;\n",
              "      width: 32px;\n",
              "    }\n",
              "\n",
              "    .colab-df-convert:hover {\n",
              "      background-color: #E2EBFA;\n",
              "      box-shadow: 0px 1px 2px rgba(60, 64, 67, 0.3), 0px 1px 3px 1px rgba(60, 64, 67, 0.15);\n",
              "      fill: #174EA6;\n",
              "    }\n",
              "\n",
              "    .colab-df-buttons div {\n",
              "      margin-bottom: 4px;\n",
              "    }\n",
              "\n",
              "    [theme=dark] .colab-df-convert {\n",
              "      background-color: #3B4455;\n",
              "      fill: #D2E3FC;\n",
              "    }\n",
              "\n",
              "    [theme=dark] .colab-df-convert:hover {\n",
              "      background-color: #434B5C;\n",
              "      box-shadow: 0px 1px 3px 1px rgba(0, 0, 0, 0.15);\n",
              "      filter: drop-shadow(0px 1px 2px rgba(0, 0, 0, 0.3));\n",
              "      fill: #FFFFFF;\n",
              "    }\n",
              "  </style>\n",
              "\n",
              "    <script>\n",
              "      const buttonEl =\n",
              "        document.querySelector('#df-2970d08f-2a89-4b8f-86d0-d08145d4ec96 button.colab-df-convert');\n",
              "      buttonEl.style.display =\n",
              "        google.colab.kernel.accessAllowed ? 'block' : 'none';\n",
              "\n",
              "      async function convertToInteractive(key) {\n",
              "        const element = document.querySelector('#df-2970d08f-2a89-4b8f-86d0-d08145d4ec96');\n",
              "        const dataTable =\n",
              "          await google.colab.kernel.invokeFunction('convertToInteractive',\n",
              "                                                    [key], {});\n",
              "        if (!dataTable) return;\n",
              "\n",
              "        const docLinkHtml = 'Like what you see? Visit the ' +\n",
              "          '<a target=\"_blank\" href=https://colab.research.google.com/notebooks/data_table.ipynb>data table notebook</a>'\n",
              "          + ' to learn more about interactive tables.';\n",
              "        element.innerHTML = '';\n",
              "        dataTable['output_type'] = 'display_data';\n",
              "        await google.colab.output.renderOutput(dataTable, element);\n",
              "        const docLink = document.createElement('div');\n",
              "        docLink.innerHTML = docLinkHtml;\n",
              "        element.appendChild(docLink);\n",
              "      }\n",
              "    </script>\n",
              "  </div>\n",
              "\n",
              "\n",
              "<div id=\"df-ed3f5915-4c90-4013-9a45-bd89309a23ad\">\n",
              "  <button class=\"colab-df-quickchart\" onclick=\"quickchart('df-ed3f5915-4c90-4013-9a45-bd89309a23ad')\"\n",
              "            title=\"Suggest charts\"\n",
              "            style=\"display:none;\">\n",
              "\n",
              "<svg xmlns=\"http://www.w3.org/2000/svg\" height=\"24px\"viewBox=\"0 0 24 24\"\n",
              "     width=\"24px\">\n",
              "    <g>\n",
              "        <path d=\"M19 3H5c-1.1 0-2 .9-2 2v14c0 1.1.9 2 2 2h14c1.1 0 2-.9 2-2V5c0-1.1-.9-2-2-2zM9 17H7v-7h2v7zm4 0h-2V7h2v10zm4 0h-2v-4h2v4z\"/>\n",
              "    </g>\n",
              "</svg>\n",
              "  </button>\n",
              "\n",
              "<style>\n",
              "  .colab-df-quickchart {\n",
              "      --bg-color: #E8F0FE;\n",
              "      --fill-color: #1967D2;\n",
              "      --hover-bg-color: #E2EBFA;\n",
              "      --hover-fill-color: #174EA6;\n",
              "      --disabled-fill-color: #AAA;\n",
              "      --disabled-bg-color: #DDD;\n",
              "  }\n",
              "\n",
              "  [theme=dark] .colab-df-quickchart {\n",
              "      --bg-color: #3B4455;\n",
              "      --fill-color: #D2E3FC;\n",
              "      --hover-bg-color: #434B5C;\n",
              "      --hover-fill-color: #FFFFFF;\n",
              "      --disabled-bg-color: #3B4455;\n",
              "      --disabled-fill-color: #666;\n",
              "  }\n",
              "\n",
              "  .colab-df-quickchart {\n",
              "    background-color: var(--bg-color);\n",
              "    border: none;\n",
              "    border-radius: 50%;\n",
              "    cursor: pointer;\n",
              "    display: none;\n",
              "    fill: var(--fill-color);\n",
              "    height: 32px;\n",
              "    padding: 0;\n",
              "    width: 32px;\n",
              "  }\n",
              "\n",
              "  .colab-df-quickchart:hover {\n",
              "    background-color: var(--hover-bg-color);\n",
              "    box-shadow: 0 1px 2px rgba(60, 64, 67, 0.3), 0 1px 3px 1px rgba(60, 64, 67, 0.15);\n",
              "    fill: var(--button-hover-fill-color);\n",
              "  }\n",
              "\n",
              "  .colab-df-quickchart-complete:disabled,\n",
              "  .colab-df-quickchart-complete:disabled:hover {\n",
              "    background-color: var(--disabled-bg-color);\n",
              "    fill: var(--disabled-fill-color);\n",
              "    box-shadow: none;\n",
              "  }\n",
              "\n",
              "  .colab-df-spinner {\n",
              "    border: 2px solid var(--fill-color);\n",
              "    border-color: transparent;\n",
              "    border-bottom-color: var(--fill-color);\n",
              "    animation:\n",
              "      spin 1s steps(1) infinite;\n",
              "  }\n",
              "\n",
              "  @keyframes spin {\n",
              "    0% {\n",
              "      border-color: transparent;\n",
              "      border-bottom-color: var(--fill-color);\n",
              "      border-left-color: var(--fill-color);\n",
              "    }\n",
              "    20% {\n",
              "      border-color: transparent;\n",
              "      border-left-color: var(--fill-color);\n",
              "      border-top-color: var(--fill-color);\n",
              "    }\n",
              "    30% {\n",
              "      border-color: transparent;\n",
              "      border-left-color: var(--fill-color);\n",
              "      border-top-color: var(--fill-color);\n",
              "      border-right-color: var(--fill-color);\n",
              "    }\n",
              "    40% {\n",
              "      border-color: transparent;\n",
              "      border-right-color: var(--fill-color);\n",
              "      border-top-color: var(--fill-color);\n",
              "    }\n",
              "    60% {\n",
              "      border-color: transparent;\n",
              "      border-right-color: var(--fill-color);\n",
              "    }\n",
              "    80% {\n",
              "      border-color: transparent;\n",
              "      border-right-color: var(--fill-color);\n",
              "      border-bottom-color: var(--fill-color);\n",
              "    }\n",
              "    90% {\n",
              "      border-color: transparent;\n",
              "      border-bottom-color: var(--fill-color);\n",
              "    }\n",
              "  }\n",
              "</style>\n",
              "\n",
              "  <script>\n",
              "    async function quickchart(key) {\n",
              "      const quickchartButtonEl =\n",
              "        document.querySelector('#' + key + ' button');\n",
              "      quickchartButtonEl.disabled = true;  // To prevent multiple clicks.\n",
              "      quickchartButtonEl.classList.add('colab-df-spinner');\n",
              "      try {\n",
              "        const charts = await google.colab.kernel.invokeFunction(\n",
              "            'suggestCharts', [key], {});\n",
              "      } catch (error) {\n",
              "        console.error('Error during call to suggestCharts:', error);\n",
              "      }\n",
              "      quickchartButtonEl.classList.remove('colab-df-spinner');\n",
              "      quickchartButtonEl.classList.add('colab-df-quickchart-complete');\n",
              "    }\n",
              "    (() => {\n",
              "      let quickchartButtonEl =\n",
              "        document.querySelector('#df-ed3f5915-4c90-4013-9a45-bd89309a23ad button');\n",
              "      quickchartButtonEl.style.display =\n",
              "        google.colab.kernel.accessAllowed ? 'block' : 'none';\n",
              "    })();\n",
              "  </script>\n",
              "</div>\n",
              "\n",
              "  <div id=\"id_bf55f680-8991-43bd-8570-4c758f40adc5\">\n",
              "    <style>\n",
              "      .colab-df-generate {\n",
              "        background-color: #E8F0FE;\n",
              "        border: none;\n",
              "        border-radius: 50%;\n",
              "        cursor: pointer;\n",
              "        display: none;\n",
              "        fill: #1967D2;\n",
              "        height: 32px;\n",
              "        padding: 0 0 0 0;\n",
              "        width: 32px;\n",
              "      }\n",
              "\n",
              "      .colab-df-generate:hover {\n",
              "        background-color: #E2EBFA;\n",
              "        box-shadow: 0px 1px 2px rgba(60, 64, 67, 0.3), 0px 1px 3px 1px rgba(60, 64, 67, 0.15);\n",
              "        fill: #174EA6;\n",
              "      }\n",
              "\n",
              "      [theme=dark] .colab-df-generate {\n",
              "        background-color: #3B4455;\n",
              "        fill: #D2E3FC;\n",
              "      }\n",
              "\n",
              "      [theme=dark] .colab-df-generate:hover {\n",
              "        background-color: #434B5C;\n",
              "        box-shadow: 0px 1px 3px 1px rgba(0, 0, 0, 0.15);\n",
              "        filter: drop-shadow(0px 1px 2px rgba(0, 0, 0, 0.3));\n",
              "        fill: #FFFFFF;\n",
              "      }\n",
              "    </style>\n",
              "    <button class=\"colab-df-generate\" onclick=\"generateWithVariable('df')\"\n",
              "            title=\"Generate code using this dataframe.\"\n",
              "            style=\"display:none;\">\n",
              "\n",
              "  <svg xmlns=\"http://www.w3.org/2000/svg\" height=\"24px\"viewBox=\"0 0 24 24\"\n",
              "       width=\"24px\">\n",
              "    <path d=\"M7,19H8.4L18.45,9,17,7.55,7,17.6ZM5,21V16.75L18.45,3.32a2,2,0,0,1,2.83,0l1.4,1.43a1.91,1.91,0,0,1,.58,1.4,1.91,1.91,0,0,1-.58,1.4L9.25,21ZM18.45,9,17,7.55Zm-12,3A5.31,5.31,0,0,0,4.9,8.1,5.31,5.31,0,0,0,1,6.5,5.31,5.31,0,0,0,4.9,4.9,5.31,5.31,0,0,0,6.5,1,5.31,5.31,0,0,0,8.1,4.9,5.31,5.31,0,0,0,12,6.5,5.46,5.46,0,0,0,6.5,12Z\"/>\n",
              "  </svg>\n",
              "    </button>\n",
              "    <script>\n",
              "      (() => {\n",
              "      const buttonEl =\n",
              "        document.querySelector('#id_bf55f680-8991-43bd-8570-4c758f40adc5 button.colab-df-generate');\n",
              "      buttonEl.style.display =\n",
              "        google.colab.kernel.accessAllowed ? 'block' : 'none';\n",
              "\n",
              "      buttonEl.onclick = () => {\n",
              "        google.colab.notebook.generateWithVariable('df');\n",
              "      }\n",
              "      })();\n",
              "    </script>\n",
              "  </div>\n",
              "\n",
              "    </div>\n",
              "  </div>\n"
            ]
          },
          "metadata": {},
          "execution_count": 3
        }
      ]
    },
    {
      "cell_type": "code",
      "source": [
        "df_frame = df.copy()"
      ],
      "metadata": {
        "id": "kKk4qS9UUke1"
      },
      "execution_count": 4,
      "outputs": []
    },
    {
      "cell_type": "code",
      "source": [
        "df.info()"
      ],
      "metadata": {
        "colab": {
          "base_uri": "https://localhost:8080/"
        },
        "id": "tkovKNkYUvAN",
        "outputId": "7c1a13b7-9286-4960-a981-0e8dc17f8223"
      },
      "execution_count": 5,
      "outputs": [
        {
          "output_type": "stream",
          "name": "stdout",
          "text": [
            "<class 'pandas.core.frame.DataFrame'>\n",
            "RangeIndex: 4622 entries, 0 to 4621\n",
            "Data columns (total 5 columns):\n",
            " #   Column              Non-Null Count  Dtype \n",
            "---  ------              --------------  ----- \n",
            " 0   order_id            4622 non-null   int64 \n",
            " 1   quantity            4622 non-null   int64 \n",
            " 2   item_name           4622 non-null   object\n",
            " 3   choice_description  3376 non-null   object\n",
            " 4   item_price          4622 non-null   object\n",
            "dtypes: int64(2), object(3)\n",
            "memory usage: 180.7+ KB\n"
          ]
        }
      ]
    },
    {
      "cell_type": "code",
      "source": [
        "df.shape"
      ],
      "metadata": {
        "colab": {
          "base_uri": "https://localhost:8080/"
        },
        "id": "ZHLLGTpXU-s1",
        "outputId": "3e38ea48-a643-49c1-e399-d2f96e0f56a9"
      },
      "execution_count": 6,
      "outputs": [
        {
          "output_type": "execute_result",
          "data": {
            "text/plain": [
              "(4622, 5)"
            ]
          },
          "metadata": {},
          "execution_count": 6
        }
      ]
    },
    {
      "cell_type": "code",
      "source": [
        "df.columns"
      ],
      "metadata": {
        "colab": {
          "base_uri": "https://localhost:8080/"
        },
        "id": "l5FdTCIVVBxp",
        "outputId": "7b1407e3-f4d3-49e6-9f6d-01f24e33284b"
      },
      "execution_count": 8,
      "outputs": [
        {
          "output_type": "execute_result",
          "data": {
            "text/plain": [
              "Index(['order_id', 'quantity', 'item_name', 'choice_description',\n",
              "       'item_price'],\n",
              "      dtype='object')"
            ]
          },
          "metadata": {},
          "execution_count": 8
        }
      ]
    },
    {
      "cell_type": "code",
      "source": [
        "df.head()"
      ],
      "metadata": {
        "colab": {
          "base_uri": "https://localhost:8080/",
          "height": 206
        },
        "id": "WKsT69qzVG8_",
        "outputId": "507a96a5-8eff-4363-c0eb-fa0e6836b70d"
      },
      "execution_count": 9,
      "outputs": [
        {
          "output_type": "execute_result",
          "data": {
            "text/plain": [
              "   order_id  quantity                              item_name  \\\n",
              "0         1         1           Chips and Fresh Tomato Salsa   \n",
              "1         1         1                                   Izze   \n",
              "2         1         1                       Nantucket Nectar   \n",
              "3         1         1  Chips and Tomatillo-Green Chili Salsa   \n",
              "4         2         2                           Chicken Bowl   \n",
              "\n",
              "                                  choice_description item_price  \n",
              "0                                                NaN     $2.39   \n",
              "1                                       [Clementine]     $3.39   \n",
              "2                                            [Apple]     $3.39   \n",
              "3                                                NaN     $2.39   \n",
              "4  [Tomatillo-Red Chili Salsa (Hot), [Black Beans...    $16.98   "
            ],
            "text/html": [
              "\n",
              "  <div id=\"df-a13b2d73-99b0-474a-8532-72503de873ac\" class=\"colab-df-container\">\n",
              "    <div>\n",
              "<style scoped>\n",
              "    .dataframe tbody tr th:only-of-type {\n",
              "        vertical-align: middle;\n",
              "    }\n",
              "\n",
              "    .dataframe tbody tr th {\n",
              "        vertical-align: top;\n",
              "    }\n",
              "\n",
              "    .dataframe thead th {\n",
              "        text-align: right;\n",
              "    }\n",
              "</style>\n",
              "<table border=\"1\" class=\"dataframe\">\n",
              "  <thead>\n",
              "    <tr style=\"text-align: right;\">\n",
              "      <th></th>\n",
              "      <th>order_id</th>\n",
              "      <th>quantity</th>\n",
              "      <th>item_name</th>\n",
              "      <th>choice_description</th>\n",
              "      <th>item_price</th>\n",
              "    </tr>\n",
              "  </thead>\n",
              "  <tbody>\n",
              "    <tr>\n",
              "      <th>0</th>\n",
              "      <td>1</td>\n",
              "      <td>1</td>\n",
              "      <td>Chips and Fresh Tomato Salsa</td>\n",
              "      <td>NaN</td>\n",
              "      <td>$2.39</td>\n",
              "    </tr>\n",
              "    <tr>\n",
              "      <th>1</th>\n",
              "      <td>1</td>\n",
              "      <td>1</td>\n",
              "      <td>Izze</td>\n",
              "      <td>[Clementine]</td>\n",
              "      <td>$3.39</td>\n",
              "    </tr>\n",
              "    <tr>\n",
              "      <th>2</th>\n",
              "      <td>1</td>\n",
              "      <td>1</td>\n",
              "      <td>Nantucket Nectar</td>\n",
              "      <td>[Apple]</td>\n",
              "      <td>$3.39</td>\n",
              "    </tr>\n",
              "    <tr>\n",
              "      <th>3</th>\n",
              "      <td>1</td>\n",
              "      <td>1</td>\n",
              "      <td>Chips and Tomatillo-Green Chili Salsa</td>\n",
              "      <td>NaN</td>\n",
              "      <td>$2.39</td>\n",
              "    </tr>\n",
              "    <tr>\n",
              "      <th>4</th>\n",
              "      <td>2</td>\n",
              "      <td>2</td>\n",
              "      <td>Chicken Bowl</td>\n",
              "      <td>[Tomatillo-Red Chili Salsa (Hot), [Black Beans...</td>\n",
              "      <td>$16.98</td>\n",
              "    </tr>\n",
              "  </tbody>\n",
              "</table>\n",
              "</div>\n",
              "    <div class=\"colab-df-buttons\">\n",
              "\n",
              "  <div class=\"colab-df-container\">\n",
              "    <button class=\"colab-df-convert\" onclick=\"convertToInteractive('df-a13b2d73-99b0-474a-8532-72503de873ac')\"\n",
              "            title=\"Convert this dataframe to an interactive table.\"\n",
              "            style=\"display:none;\">\n",
              "\n",
              "  <svg xmlns=\"http://www.w3.org/2000/svg\" height=\"24px\" viewBox=\"0 -960 960 960\">\n",
              "    <path d=\"M120-120v-720h720v720H120Zm60-500h600v-160H180v160Zm220 220h160v-160H400v160Zm0 220h160v-160H400v160ZM180-400h160v-160H180v160Zm440 0h160v-160H620v160ZM180-180h160v-160H180v160Zm440 0h160v-160H620v160Z\"/>\n",
              "  </svg>\n",
              "    </button>\n",
              "\n",
              "  <style>\n",
              "    .colab-df-container {\n",
              "      display:flex;\n",
              "      gap: 12px;\n",
              "    }\n",
              "\n",
              "    .colab-df-convert {\n",
              "      background-color: #E8F0FE;\n",
              "      border: none;\n",
              "      border-radius: 50%;\n",
              "      cursor: pointer;\n",
              "      display: none;\n",
              "      fill: #1967D2;\n",
              "      height: 32px;\n",
              "      padding: 0 0 0 0;\n",
              "      width: 32px;\n",
              "    }\n",
              "\n",
              "    .colab-df-convert:hover {\n",
              "      background-color: #E2EBFA;\n",
              "      box-shadow: 0px 1px 2px rgba(60, 64, 67, 0.3), 0px 1px 3px 1px rgba(60, 64, 67, 0.15);\n",
              "      fill: #174EA6;\n",
              "    }\n",
              "\n",
              "    .colab-df-buttons div {\n",
              "      margin-bottom: 4px;\n",
              "    }\n",
              "\n",
              "    [theme=dark] .colab-df-convert {\n",
              "      background-color: #3B4455;\n",
              "      fill: #D2E3FC;\n",
              "    }\n",
              "\n",
              "    [theme=dark] .colab-df-convert:hover {\n",
              "      background-color: #434B5C;\n",
              "      box-shadow: 0px 1px 3px 1px rgba(0, 0, 0, 0.15);\n",
              "      filter: drop-shadow(0px 1px 2px rgba(0, 0, 0, 0.3));\n",
              "      fill: #FFFFFF;\n",
              "    }\n",
              "  </style>\n",
              "\n",
              "    <script>\n",
              "      const buttonEl =\n",
              "        document.querySelector('#df-a13b2d73-99b0-474a-8532-72503de873ac button.colab-df-convert');\n",
              "      buttonEl.style.display =\n",
              "        google.colab.kernel.accessAllowed ? 'block' : 'none';\n",
              "\n",
              "      async function convertToInteractive(key) {\n",
              "        const element = document.querySelector('#df-a13b2d73-99b0-474a-8532-72503de873ac');\n",
              "        const dataTable =\n",
              "          await google.colab.kernel.invokeFunction('convertToInteractive',\n",
              "                                                    [key], {});\n",
              "        if (!dataTable) return;\n",
              "\n",
              "        const docLinkHtml = 'Like what you see? Visit the ' +\n",
              "          '<a target=\"_blank\" href=https://colab.research.google.com/notebooks/data_table.ipynb>data table notebook</a>'\n",
              "          + ' to learn more about interactive tables.';\n",
              "        element.innerHTML = '';\n",
              "        dataTable['output_type'] = 'display_data';\n",
              "        await google.colab.output.renderOutput(dataTable, element);\n",
              "        const docLink = document.createElement('div');\n",
              "        docLink.innerHTML = docLinkHtml;\n",
              "        element.appendChild(docLink);\n",
              "      }\n",
              "    </script>\n",
              "  </div>\n",
              "\n",
              "\n",
              "<div id=\"df-511bcc32-1cbf-4bdb-ab97-b58a475c1e21\">\n",
              "  <button class=\"colab-df-quickchart\" onclick=\"quickchart('df-511bcc32-1cbf-4bdb-ab97-b58a475c1e21')\"\n",
              "            title=\"Suggest charts\"\n",
              "            style=\"display:none;\">\n",
              "\n",
              "<svg xmlns=\"http://www.w3.org/2000/svg\" height=\"24px\"viewBox=\"0 0 24 24\"\n",
              "     width=\"24px\">\n",
              "    <g>\n",
              "        <path d=\"M19 3H5c-1.1 0-2 .9-2 2v14c0 1.1.9 2 2 2h14c1.1 0 2-.9 2-2V5c0-1.1-.9-2-2-2zM9 17H7v-7h2v7zm4 0h-2V7h2v10zm4 0h-2v-4h2v4z\"/>\n",
              "    </g>\n",
              "</svg>\n",
              "  </button>\n",
              "\n",
              "<style>\n",
              "  .colab-df-quickchart {\n",
              "      --bg-color: #E8F0FE;\n",
              "      --fill-color: #1967D2;\n",
              "      --hover-bg-color: #E2EBFA;\n",
              "      --hover-fill-color: #174EA6;\n",
              "      --disabled-fill-color: #AAA;\n",
              "      --disabled-bg-color: #DDD;\n",
              "  }\n",
              "\n",
              "  [theme=dark] .colab-df-quickchart {\n",
              "      --bg-color: #3B4455;\n",
              "      --fill-color: #D2E3FC;\n",
              "      --hover-bg-color: #434B5C;\n",
              "      --hover-fill-color: #FFFFFF;\n",
              "      --disabled-bg-color: #3B4455;\n",
              "      --disabled-fill-color: #666;\n",
              "  }\n",
              "\n",
              "  .colab-df-quickchart {\n",
              "    background-color: var(--bg-color);\n",
              "    border: none;\n",
              "    border-radius: 50%;\n",
              "    cursor: pointer;\n",
              "    display: none;\n",
              "    fill: var(--fill-color);\n",
              "    height: 32px;\n",
              "    padding: 0;\n",
              "    width: 32px;\n",
              "  }\n",
              "\n",
              "  .colab-df-quickchart:hover {\n",
              "    background-color: var(--hover-bg-color);\n",
              "    box-shadow: 0 1px 2px rgba(60, 64, 67, 0.3), 0 1px 3px 1px rgba(60, 64, 67, 0.15);\n",
              "    fill: var(--button-hover-fill-color);\n",
              "  }\n",
              "\n",
              "  .colab-df-quickchart-complete:disabled,\n",
              "  .colab-df-quickchart-complete:disabled:hover {\n",
              "    background-color: var(--disabled-bg-color);\n",
              "    fill: var(--disabled-fill-color);\n",
              "    box-shadow: none;\n",
              "  }\n",
              "\n",
              "  .colab-df-spinner {\n",
              "    border: 2px solid var(--fill-color);\n",
              "    border-color: transparent;\n",
              "    border-bottom-color: var(--fill-color);\n",
              "    animation:\n",
              "      spin 1s steps(1) infinite;\n",
              "  }\n",
              "\n",
              "  @keyframes spin {\n",
              "    0% {\n",
              "      border-color: transparent;\n",
              "      border-bottom-color: var(--fill-color);\n",
              "      border-left-color: var(--fill-color);\n",
              "    }\n",
              "    20% {\n",
              "      border-color: transparent;\n",
              "      border-left-color: var(--fill-color);\n",
              "      border-top-color: var(--fill-color);\n",
              "    }\n",
              "    30% {\n",
              "      border-color: transparent;\n",
              "      border-left-color: var(--fill-color);\n",
              "      border-top-color: var(--fill-color);\n",
              "      border-right-color: var(--fill-color);\n",
              "    }\n",
              "    40% {\n",
              "      border-color: transparent;\n",
              "      border-right-color: var(--fill-color);\n",
              "      border-top-color: var(--fill-color);\n",
              "    }\n",
              "    60% {\n",
              "      border-color: transparent;\n",
              "      border-right-color: var(--fill-color);\n",
              "    }\n",
              "    80% {\n",
              "      border-color: transparent;\n",
              "      border-right-color: var(--fill-color);\n",
              "      border-bottom-color: var(--fill-color);\n",
              "    }\n",
              "    90% {\n",
              "      border-color: transparent;\n",
              "      border-bottom-color: var(--fill-color);\n",
              "    }\n",
              "  }\n",
              "</style>\n",
              "\n",
              "  <script>\n",
              "    async function quickchart(key) {\n",
              "      const quickchartButtonEl =\n",
              "        document.querySelector('#' + key + ' button');\n",
              "      quickchartButtonEl.disabled = true;  // To prevent multiple clicks.\n",
              "      quickchartButtonEl.classList.add('colab-df-spinner');\n",
              "      try {\n",
              "        const charts = await google.colab.kernel.invokeFunction(\n",
              "            'suggestCharts', [key], {});\n",
              "      } catch (error) {\n",
              "        console.error('Error during call to suggestCharts:', error);\n",
              "      }\n",
              "      quickchartButtonEl.classList.remove('colab-df-spinner');\n",
              "      quickchartButtonEl.classList.add('colab-df-quickchart-complete');\n",
              "    }\n",
              "    (() => {\n",
              "      let quickchartButtonEl =\n",
              "        document.querySelector('#df-511bcc32-1cbf-4bdb-ab97-b58a475c1e21 button');\n",
              "      quickchartButtonEl.style.display =\n",
              "        google.colab.kernel.accessAllowed ? 'block' : 'none';\n",
              "    })();\n",
              "  </script>\n",
              "</div>\n",
              "\n",
              "    </div>\n",
              "  </div>\n"
            ]
          },
          "metadata": {},
          "execution_count": 9
        }
      ]
    },
    {
      "cell_type": "code",
      "source": [
        "df.tail()"
      ],
      "metadata": {
        "colab": {
          "base_uri": "https://localhost:8080/",
          "height": 206
        },
        "id": "DaahgP1WVPvX",
        "outputId": "7f1e1773-4637-4610-9c01-768568154951"
      },
      "execution_count": 10,
      "outputs": [
        {
          "output_type": "execute_result",
          "data": {
            "text/plain": [
              "      order_id  quantity           item_name  \\\n",
              "4617      1833         1       Steak Burrito   \n",
              "4618      1833         1       Steak Burrito   \n",
              "4619      1834         1  Chicken Salad Bowl   \n",
              "4620      1834         1  Chicken Salad Bowl   \n",
              "4621      1834         1  Chicken Salad Bowl   \n",
              "\n",
              "                                     choice_description item_price  \n",
              "4617  [Fresh Tomato Salsa, [Rice, Black Beans, Sour ...    $11.75   \n",
              "4618  [Fresh Tomato Salsa, [Rice, Sour Cream, Cheese...    $11.75   \n",
              "4619  [Fresh Tomato Salsa, [Fajita Vegetables, Pinto...    $11.25   \n",
              "4620  [Fresh Tomato Salsa, [Fajita Vegetables, Lettu...     $8.75   \n",
              "4621  [Fresh Tomato Salsa, [Fajita Vegetables, Pinto...     $8.75   "
            ],
            "text/html": [
              "\n",
              "  <div id=\"df-573455e9-3ba7-4451-aae6-2683c2f1dc53\" class=\"colab-df-container\">\n",
              "    <div>\n",
              "<style scoped>\n",
              "    .dataframe tbody tr th:only-of-type {\n",
              "        vertical-align: middle;\n",
              "    }\n",
              "\n",
              "    .dataframe tbody tr th {\n",
              "        vertical-align: top;\n",
              "    }\n",
              "\n",
              "    .dataframe thead th {\n",
              "        text-align: right;\n",
              "    }\n",
              "</style>\n",
              "<table border=\"1\" class=\"dataframe\">\n",
              "  <thead>\n",
              "    <tr style=\"text-align: right;\">\n",
              "      <th></th>\n",
              "      <th>order_id</th>\n",
              "      <th>quantity</th>\n",
              "      <th>item_name</th>\n",
              "      <th>choice_description</th>\n",
              "      <th>item_price</th>\n",
              "    </tr>\n",
              "  </thead>\n",
              "  <tbody>\n",
              "    <tr>\n",
              "      <th>4617</th>\n",
              "      <td>1833</td>\n",
              "      <td>1</td>\n",
              "      <td>Steak Burrito</td>\n",
              "      <td>[Fresh Tomato Salsa, [Rice, Black Beans, Sour ...</td>\n",
              "      <td>$11.75</td>\n",
              "    </tr>\n",
              "    <tr>\n",
              "      <th>4618</th>\n",
              "      <td>1833</td>\n",
              "      <td>1</td>\n",
              "      <td>Steak Burrito</td>\n",
              "      <td>[Fresh Tomato Salsa, [Rice, Sour Cream, Cheese...</td>\n",
              "      <td>$11.75</td>\n",
              "    </tr>\n",
              "    <tr>\n",
              "      <th>4619</th>\n",
              "      <td>1834</td>\n",
              "      <td>1</td>\n",
              "      <td>Chicken Salad Bowl</td>\n",
              "      <td>[Fresh Tomato Salsa, [Fajita Vegetables, Pinto...</td>\n",
              "      <td>$11.25</td>\n",
              "    </tr>\n",
              "    <tr>\n",
              "      <th>4620</th>\n",
              "      <td>1834</td>\n",
              "      <td>1</td>\n",
              "      <td>Chicken Salad Bowl</td>\n",
              "      <td>[Fresh Tomato Salsa, [Fajita Vegetables, Lettu...</td>\n",
              "      <td>$8.75</td>\n",
              "    </tr>\n",
              "    <tr>\n",
              "      <th>4621</th>\n",
              "      <td>1834</td>\n",
              "      <td>1</td>\n",
              "      <td>Chicken Salad Bowl</td>\n",
              "      <td>[Fresh Tomato Salsa, [Fajita Vegetables, Pinto...</td>\n",
              "      <td>$8.75</td>\n",
              "    </tr>\n",
              "  </tbody>\n",
              "</table>\n",
              "</div>\n",
              "    <div class=\"colab-df-buttons\">\n",
              "\n",
              "  <div class=\"colab-df-container\">\n",
              "    <button class=\"colab-df-convert\" onclick=\"convertToInteractive('df-573455e9-3ba7-4451-aae6-2683c2f1dc53')\"\n",
              "            title=\"Convert this dataframe to an interactive table.\"\n",
              "            style=\"display:none;\">\n",
              "\n",
              "  <svg xmlns=\"http://www.w3.org/2000/svg\" height=\"24px\" viewBox=\"0 -960 960 960\">\n",
              "    <path d=\"M120-120v-720h720v720H120Zm60-500h600v-160H180v160Zm220 220h160v-160H400v160Zm0 220h160v-160H400v160ZM180-400h160v-160H180v160Zm440 0h160v-160H620v160ZM180-180h160v-160H180v160Zm440 0h160v-160H620v160Z\"/>\n",
              "  </svg>\n",
              "    </button>\n",
              "\n",
              "  <style>\n",
              "    .colab-df-container {\n",
              "      display:flex;\n",
              "      gap: 12px;\n",
              "    }\n",
              "\n",
              "    .colab-df-convert {\n",
              "      background-color: #E8F0FE;\n",
              "      border: none;\n",
              "      border-radius: 50%;\n",
              "      cursor: pointer;\n",
              "      display: none;\n",
              "      fill: #1967D2;\n",
              "      height: 32px;\n",
              "      padding: 0 0 0 0;\n",
              "      width: 32px;\n",
              "    }\n",
              "\n",
              "    .colab-df-convert:hover {\n",
              "      background-color: #E2EBFA;\n",
              "      box-shadow: 0px 1px 2px rgba(60, 64, 67, 0.3), 0px 1px 3px 1px rgba(60, 64, 67, 0.15);\n",
              "      fill: #174EA6;\n",
              "    }\n",
              "\n",
              "    .colab-df-buttons div {\n",
              "      margin-bottom: 4px;\n",
              "    }\n",
              "\n",
              "    [theme=dark] .colab-df-convert {\n",
              "      background-color: #3B4455;\n",
              "      fill: #D2E3FC;\n",
              "    }\n",
              "\n",
              "    [theme=dark] .colab-df-convert:hover {\n",
              "      background-color: #434B5C;\n",
              "      box-shadow: 0px 1px 3px 1px rgba(0, 0, 0, 0.15);\n",
              "      filter: drop-shadow(0px 1px 2px rgba(0, 0, 0, 0.3));\n",
              "      fill: #FFFFFF;\n",
              "    }\n",
              "  </style>\n",
              "\n",
              "    <script>\n",
              "      const buttonEl =\n",
              "        document.querySelector('#df-573455e9-3ba7-4451-aae6-2683c2f1dc53 button.colab-df-convert');\n",
              "      buttonEl.style.display =\n",
              "        google.colab.kernel.accessAllowed ? 'block' : 'none';\n",
              "\n",
              "      async function convertToInteractive(key) {\n",
              "        const element = document.querySelector('#df-573455e9-3ba7-4451-aae6-2683c2f1dc53');\n",
              "        const dataTable =\n",
              "          await google.colab.kernel.invokeFunction('convertToInteractive',\n",
              "                                                    [key], {});\n",
              "        if (!dataTable) return;\n",
              "\n",
              "        const docLinkHtml = 'Like what you see? Visit the ' +\n",
              "          '<a target=\"_blank\" href=https://colab.research.google.com/notebooks/data_table.ipynb>data table notebook</a>'\n",
              "          + ' to learn more about interactive tables.';\n",
              "        element.innerHTML = '';\n",
              "        dataTable['output_type'] = 'display_data';\n",
              "        await google.colab.output.renderOutput(dataTable, element);\n",
              "        const docLink = document.createElement('div');\n",
              "        docLink.innerHTML = docLinkHtml;\n",
              "        element.appendChild(docLink);\n",
              "      }\n",
              "    </script>\n",
              "  </div>\n",
              "\n",
              "\n",
              "<div id=\"df-5db8a454-a8c3-475f-a07a-afdc950f5fe0\">\n",
              "  <button class=\"colab-df-quickchart\" onclick=\"quickchart('df-5db8a454-a8c3-475f-a07a-afdc950f5fe0')\"\n",
              "            title=\"Suggest charts\"\n",
              "            style=\"display:none;\">\n",
              "\n",
              "<svg xmlns=\"http://www.w3.org/2000/svg\" height=\"24px\"viewBox=\"0 0 24 24\"\n",
              "     width=\"24px\">\n",
              "    <g>\n",
              "        <path d=\"M19 3H5c-1.1 0-2 .9-2 2v14c0 1.1.9 2 2 2h14c1.1 0 2-.9 2-2V5c0-1.1-.9-2-2-2zM9 17H7v-7h2v7zm4 0h-2V7h2v10zm4 0h-2v-4h2v4z\"/>\n",
              "    </g>\n",
              "</svg>\n",
              "  </button>\n",
              "\n",
              "<style>\n",
              "  .colab-df-quickchart {\n",
              "      --bg-color: #E8F0FE;\n",
              "      --fill-color: #1967D2;\n",
              "      --hover-bg-color: #E2EBFA;\n",
              "      --hover-fill-color: #174EA6;\n",
              "      --disabled-fill-color: #AAA;\n",
              "      --disabled-bg-color: #DDD;\n",
              "  }\n",
              "\n",
              "  [theme=dark] .colab-df-quickchart {\n",
              "      --bg-color: #3B4455;\n",
              "      --fill-color: #D2E3FC;\n",
              "      --hover-bg-color: #434B5C;\n",
              "      --hover-fill-color: #FFFFFF;\n",
              "      --disabled-bg-color: #3B4455;\n",
              "      --disabled-fill-color: #666;\n",
              "  }\n",
              "\n",
              "  .colab-df-quickchart {\n",
              "    background-color: var(--bg-color);\n",
              "    border: none;\n",
              "    border-radius: 50%;\n",
              "    cursor: pointer;\n",
              "    display: none;\n",
              "    fill: var(--fill-color);\n",
              "    height: 32px;\n",
              "    padding: 0;\n",
              "    width: 32px;\n",
              "  }\n",
              "\n",
              "  .colab-df-quickchart:hover {\n",
              "    background-color: var(--hover-bg-color);\n",
              "    box-shadow: 0 1px 2px rgba(60, 64, 67, 0.3), 0 1px 3px 1px rgba(60, 64, 67, 0.15);\n",
              "    fill: var(--button-hover-fill-color);\n",
              "  }\n",
              "\n",
              "  .colab-df-quickchart-complete:disabled,\n",
              "  .colab-df-quickchart-complete:disabled:hover {\n",
              "    background-color: var(--disabled-bg-color);\n",
              "    fill: var(--disabled-fill-color);\n",
              "    box-shadow: none;\n",
              "  }\n",
              "\n",
              "  .colab-df-spinner {\n",
              "    border: 2px solid var(--fill-color);\n",
              "    border-color: transparent;\n",
              "    border-bottom-color: var(--fill-color);\n",
              "    animation:\n",
              "      spin 1s steps(1) infinite;\n",
              "  }\n",
              "\n",
              "  @keyframes spin {\n",
              "    0% {\n",
              "      border-color: transparent;\n",
              "      border-bottom-color: var(--fill-color);\n",
              "      border-left-color: var(--fill-color);\n",
              "    }\n",
              "    20% {\n",
              "      border-color: transparent;\n",
              "      border-left-color: var(--fill-color);\n",
              "      border-top-color: var(--fill-color);\n",
              "    }\n",
              "    30% {\n",
              "      border-color: transparent;\n",
              "      border-left-color: var(--fill-color);\n",
              "      border-top-color: var(--fill-color);\n",
              "      border-right-color: var(--fill-color);\n",
              "    }\n",
              "    40% {\n",
              "      border-color: transparent;\n",
              "      border-right-color: var(--fill-color);\n",
              "      border-top-color: var(--fill-color);\n",
              "    }\n",
              "    60% {\n",
              "      border-color: transparent;\n",
              "      border-right-color: var(--fill-color);\n",
              "    }\n",
              "    80% {\n",
              "      border-color: transparent;\n",
              "      border-right-color: var(--fill-color);\n",
              "      border-bottom-color: var(--fill-color);\n",
              "    }\n",
              "    90% {\n",
              "      border-color: transparent;\n",
              "      border-bottom-color: var(--fill-color);\n",
              "    }\n",
              "  }\n",
              "</style>\n",
              "\n",
              "  <script>\n",
              "    async function quickchart(key) {\n",
              "      const quickchartButtonEl =\n",
              "        document.querySelector('#' + key + ' button');\n",
              "      quickchartButtonEl.disabled = true;  // To prevent multiple clicks.\n",
              "      quickchartButtonEl.classList.add('colab-df-spinner');\n",
              "      try {\n",
              "        const charts = await google.colab.kernel.invokeFunction(\n",
              "            'suggestCharts', [key], {});\n",
              "      } catch (error) {\n",
              "        console.error('Error during call to suggestCharts:', error);\n",
              "      }\n",
              "      quickchartButtonEl.classList.remove('colab-df-spinner');\n",
              "      quickchartButtonEl.classList.add('colab-df-quickchart-complete');\n",
              "    }\n",
              "    (() => {\n",
              "      let quickchartButtonEl =\n",
              "        document.querySelector('#df-5db8a454-a8c3-475f-a07a-afdc950f5fe0 button');\n",
              "      quickchartButtonEl.style.display =\n",
              "        google.colab.kernel.accessAllowed ? 'block' : 'none';\n",
              "    })();\n",
              "  </script>\n",
              "</div>\n",
              "\n",
              "    </div>\n",
              "  </div>\n"
            ]
          },
          "metadata": {},
          "execution_count": 10
        }
      ]
    },
    {
      "cell_type": "code",
      "source": [
        "df.isna().sum()"
      ],
      "metadata": {
        "colab": {
          "base_uri": "https://localhost:8080/"
        },
        "id": "Lg41h2lFVVm7",
        "outputId": "c98f6dfd-463f-4d34-c21e-5a71a1076584"
      },
      "execution_count": 13,
      "outputs": [
        {
          "output_type": "execute_result",
          "data": {
            "text/plain": [
              "order_id                 0\n",
              "quantity                 0\n",
              "item_name                0\n",
              "choice_description    1246\n",
              "item_price               0\n",
              "dtype: int64"
            ]
          },
          "metadata": {},
          "execution_count": 13
        }
      ]
    },
    {
      "cell_type": "code",
      "source": [
        "# Question 1: Missing Values\n",
        "missing_values = df.isna().sum()\n",
        "print(\"Missing Values:\")\n",
        "print(missing_values)"
      ],
      "metadata": {
        "colab": {
          "base_uri": "https://localhost:8080/"
        },
        "id": "HUt_FGDyZjEA",
        "outputId": "2d472351-597b-4999-d0c4-26576df8c4fe"
      },
      "execution_count": 14,
      "outputs": [
        {
          "output_type": "stream",
          "name": "stdout",
          "text": [
            "Missing Values:\n",
            "order_id                 0\n",
            "quantity                 0\n",
            "item_name                0\n",
            "choice_description    1246\n",
            "item_price               0\n",
            "dtype: int64\n"
          ]
        }
      ]
    },
    {
      "cell_type": "code",
      "source": [
        "# Question 2: Data Types\n",
        "data_types = df.dtypes\n",
        "print(\"\\nData Types:\")\n",
        "print(data_types)"
      ],
      "metadata": {
        "colab": {
          "base_uri": "https://localhost:8080/"
        },
        "id": "j8xGdJwGazNd",
        "outputId": "2709c05f-357e-4eab-c7c2-0c7a14a211eb"
      },
      "execution_count": 16,
      "outputs": [
        {
          "output_type": "stream",
          "name": "stdout",
          "text": [
            "\n",
            "Data Types:\n",
            "order_id               int64\n",
            "quantity               int64\n",
            "item_name             object\n",
            "choice_description    object\n",
            "item_price            object\n",
            "dtype: object\n"
          ]
        }
      ]
    },
    {
      "cell_type": "code",
      "source": [
        "# Question 3: Duplicated Entries\n",
        "duplicates = df[df.duplicated()]\n",
        "print(\"\\nDuplicated Entries:\")\n",
        "print(duplicates)"
      ],
      "metadata": {
        "colab": {
          "base_uri": "https://localhost:8080/"
        },
        "id": "0QbDIJBfa-0K",
        "outputId": "d4829c51-35ac-437e-8f44-bf9735bc73b2"
      },
      "execution_count": 18,
      "outputs": [
        {
          "output_type": "stream",
          "name": "stdout",
          "text": [
            "\n",
            "Duplicated Entries:\n",
            "      order_id  quantity                            item_name  \\\n",
            "238        103         1                        Steak Burrito   \n",
            "248        108         1                          Canned Soda   \n",
            "297        129         1                        Steak Burrito   \n",
            "381        165         1                    Canned Soft Drink   \n",
            "484        205         1                         Chicken Bowl   \n",
            "567        233         1                    Canned Soft Drink   \n",
            "617        254         1                                Chips   \n",
            "684        282         1                    Canned Soft Drink   \n",
            "773        319         1                         Chicken Bowl   \n",
            "908        376         1                        Steak Burrito   \n",
            "924        381         1                   Chicken Soft Tacos   \n",
            "1003       412         1                        Bottled Water   \n",
            "1117       462         1                      Chicken Burrito   \n",
            "1203       491         1                      Chicken Burrito   \n",
            "1245       507         1                    Canned Soft Drink   \n",
            "1381       561         1                    Canned Soft Drink   \n",
            "1410       573         1                        Bottled Water   \n",
            "1420       576         1                        Barbacoa Bowl   \n",
            "1421       576         1                  Barbacoa Salad Bowl   \n",
            "1502       610         1                      Chicken Burrito   \n",
            "1534       624         1  Chips and Tomatillo-Red Chili Salsa   \n",
            "1548       628         1                  Chips and Guacamole   \n",
            "1612       651         1                                 Izze   \n",
            "1791       724         1                    Canned Soft Drink   \n",
            "1792       724         1                    Canned Soft Drink   \n",
            "2078       838         1                   Chicken Soft Tacos   \n",
            "2127       856         1                      Chicken Burrito   \n",
            "2307       926         1                         Chicken Bowl   \n",
            "2318       926         1                         Chicken Bowl   \n",
            "2362       940         1                    Canned Soft Drink   \n",
            "2448       972         1                         Chicken Bowl   \n",
            "2553      1011         1                    Canned Soft Drink   \n",
            "2554      1011         1                    Canned Soft Drink   \n",
            "2560      1013         1                  Chips and Guacamole   \n",
            "2576      1020         1  Chips and Tomatillo Red Chili Salsa   \n",
            "2662      1057         1                   Chicken Soft Tacos   \n",
            "2708      1074         1                                Chips   \n",
            "2717      1078         1                         Chicken Bowl   \n",
            "2833      1125         1                      Chicken Burrito   \n",
            "2881      1144         1                        Bottled Water   \n",
            "2973      1182         1                         Chicken Bowl   \n",
            "2977      1184         1                           Steak Bowl   \n",
            "3121      1244         1                  Chips and Guacamole   \n",
            "3430      1377         1  Chips and Tomatillo Red Chili Salsa   \n",
            "3637      1454         1                   Chicken Soft Tacos   \n",
            "3716      1484         1                          Canned Soda   \n",
            "3764      1507         1                      Chicken Burrito   \n",
            "3829      1534         1                      Chicken Burrito   \n",
            "3924      1574         1                        Bottled Water   \n",
            "4112      1647         1                         Chicken Bowl   \n",
            "4155      1660         1                  Chips and Guacamole   \n",
            "4236      1691         1                         Chicken Bowl   \n",
            "4266      1701         1                                Chips   \n",
            "4372      1745         1                  Chips and Guacamole   \n",
            "4463      1778         1                    Canned Soft Drink   \n",
            "4479      1785         1                        Bottled Water   \n",
            "4544      1806         1                        Bottled Water   \n",
            "4570      1817         1                        Bottled Water   \n",
            "4603      1827         1                     Barbacoa Burrito   \n",
            "\n",
            "                                     choice_description item_price  \n",
            "238   [Tomatillo Red Chili Salsa, [Rice, Black Beans...    $11.75   \n",
            "248                                      [Mountain Dew]     $1.09   \n",
            "297   [Tomatillo Green Chili Salsa, [Rice, Cheese, G...    $11.75   \n",
            "381                                              [Coke]     $1.25   \n",
            "484   [Fresh Tomato Salsa, [Fajita Vegetables, Rice,...     $8.75   \n",
            "567                                         [Diet Coke]     $1.25   \n",
            "617                                                 NaN     $2.15   \n",
            "684                                              [Coke]     $1.25   \n",
            "773   [Tomatillo-Green Chili Salsa (Medium), Black B...     $8.49   \n",
            "908   [Roasted Chili Corn Salsa (Medium), [Rice, Faj...     $8.99   \n",
            "924           [Tomatillo-Red Chili Salsa (Hot), Cheese]     $8.49   \n",
            "1003                                                NaN     $1.50   \n",
            "1117  [Fresh Tomato Salsa, [Rice, Black Beans, Chees...    $11.25   \n",
            "1203  [Fresh Tomato Salsa, [Cheese, Sour Cream, Lett...     $8.75   \n",
            "1245                                         [Lemonade]     $1.25   \n",
            "1381                                             [Coke]     $1.25   \n",
            "1410                                                NaN     $1.50   \n",
            "1420                         [Roasted Chili Corn Salsa]     $9.25   \n",
            "1421                         [Roasted Chili Corn Salsa]     $9.39   \n",
            "1502  [Fresh Tomato Salsa, [Fajita Vegetables, Rice,...     $8.75   \n",
            "1534                                                NaN     $2.39   \n",
            "1548                                                NaN     $4.45   \n",
            "1612                                       [Blackberry]     $3.39   \n",
            "1791                                             [Coke]     $1.25   \n",
            "1792                                             [Coke]     $1.25   \n",
            "2078  [Fresh Tomato Salsa, [Cheese, Sour Cream, Lett...     $8.75   \n",
            "2127  [Fresh Tomato Salsa, [Rice, Black Beans, Chees...    $11.25   \n",
            "2307  [Roasted Chili Corn Salsa, [Fajita Vegetables,...     $8.75   \n",
            "2318  [Roasted Chili Corn Salsa, [Fajita Vegetables,...     $8.75   \n",
            "2362                                             [Coke]     $1.25   \n",
            "2448  [Tomatillo Red Chili Salsa, [Rice, Black Beans...     $8.75   \n",
            "2553                                             [Coke]     $1.25   \n",
            "2554                                             [Coke]     $1.25   \n",
            "2560                                                NaN     $4.45   \n",
            "2576                                                NaN     $2.95   \n",
            "2662  [Tomatillo Red Chili Salsa, [Fajita Vegetables...    $11.25   \n",
            "2708                                                NaN     $2.15   \n",
            "2717  [Fresh Tomato Salsa, [Rice, Black Beans, Chees...    $11.25   \n",
            "2833      [Fresh Tomato Salsa, [Rice, Cheese, Lettuce]]     $8.75   \n",
            "2881                                                NaN     $1.50   \n",
            "2973  [Tomatillo-Red Chili Salsa (Hot), [Rice, Black...     $8.49   \n",
            "2977  [Fresh Tomato Salsa, [Rice, Pinto Beans, Chees...     $9.25   \n",
            "3121                                                NaN     $4.45   \n",
            "3430                                                NaN     $2.95   \n",
            "3637                         [Fresh Tomato Salsa, Rice]     $8.75   \n",
            "3716                                       [Dr. Pepper]     $1.09   \n",
            "3764  [Fresh Tomato Salsa, [Rice, Black Beans, Chees...     $8.75   \n",
            "3829  [Fresh Tomato Salsa, [Rice, Cheese, Sour Cream...     $8.75   \n",
            "3924                                                NaN     $1.50   \n",
            "4112  [Fresh Tomato Salsa, [Fajita Vegetables, Rice,...    $11.25   \n",
            "4155                                                NaN     $4.45   \n",
            "4236                                       [White Rice]     $8.50   \n",
            "4266                                                NaN     $2.15   \n",
            "4372                                                NaN     $4.45   \n",
            "4463                                         [Lemonade]     $1.25   \n",
            "4479                                                NaN     $1.50   \n",
            "4544                                                NaN     $1.50   \n",
            "4570                                                NaN     $1.50   \n",
            "4603                      [Tomatillo Green Chili Salsa]     $9.25   \n"
          ]
        }
      ]
    },
    {
      "cell_type": "code",
      "source": [
        "# Dropping duplicates\n",
        "# df = df.drop_duplicates()\n",
        "df = df.drop_duplicates()"
      ],
      "metadata": {
        "id": "Nn1XinBybcq1"
      },
      "execution_count": 20,
      "outputs": []
    },
    {
      "cell_type": "code",
      "source": [
        "quantity_price_check = df[['quantity', 'item_price']]"
      ],
      "metadata": {
        "id": "tm8UWPC3dILT"
      },
      "execution_count": 27,
      "outputs": []
    },
    {
      "cell_type": "code",
      "source": [
        "# Question 4: Quantity and Item Price\n",
        "# Checking for inconsistencies or anomalies\n",
        "# Assuming Quantity and Item Price are numeric columns\n",
        "# If not, you may need to convert them to numeric types\n",
        "quantity_price_check = df[['quantity', 'item_price']].apply(pd.to_numeric, errors='coerce')\n",
        "print(\"\\nquantity and item_price Relationships:\")\n",
        "print(quantity_price_check)"
      ],
      "metadata": {
        "colab": {
          "base_uri": "https://localhost:8080/"
        },
        "id": "fdKg6Ei3cB2y",
        "outputId": "99f7b51b-37a6-4d3e-8374-e5ab0e25c676"
      },
      "execution_count": 28,
      "outputs": [
        {
          "output_type": "stream",
          "name": "stdout",
          "text": [
            "\n",
            "quantity and item_price Relationships:\n",
            "      quantity  item_price\n",
            "0            1         NaN\n",
            "1            1         NaN\n",
            "2            1         NaN\n",
            "3            1         NaN\n",
            "4            2         NaN\n",
            "...        ...         ...\n",
            "4617         1         NaN\n",
            "4618         1         NaN\n",
            "4619         1         NaN\n",
            "4620         1         NaN\n",
            "4621         1         NaN\n",
            "\n",
            "[4563 rows x 2 columns]\n"
          ]
        }
      ]
    },
    {
      "cell_type": "code",
      "source": [
        "# Display initial statistics for quantity and item_price columns\n",
        "initial_stats = df[['quantity', 'item_price']].describe()\n",
        "print(\"Initial Statistics:\")\n",
        "print(initial_stats)"
      ],
      "metadata": {
        "colab": {
          "base_uri": "https://localhost:8080/"
        },
        "id": "Wnk6Rxznd232",
        "outputId": "9c10d7f6-81d1-4431-e83c-120f8899d440"
      },
      "execution_count": 29,
      "outputs": [
        {
          "output_type": "stream",
          "name": "stdout",
          "text": [
            "Initial Statistics:\n",
            "          quantity\n",
            "count  4563.000000\n",
            "mean      1.076704\n",
            "std       0.412739\n",
            "min       1.000000\n",
            "25%       1.000000\n",
            "50%       1.000000\n",
            "75%       1.000000\n",
            "max      15.000000\n"
          ]
        }
      ]
    },
    {
      "cell_type": "code",
      "source": [
        "# Examine Quantity and Item Price for potential issues\n",
        "#  may want to check for negative values, zero values, or non-numeric entries\n",
        "df['item_price'] = pd.to_numeric(df['item_price'], errors='coerce')\n",
        "quantity_issues = df[df['quantity'] <= 0]\n",
        "item_price_issues = df[df['item_price'] <= 0]\n"
      ],
      "metadata": {
        "id": "EQkaA_zDeCSR"
      },
      "execution_count": 32,
      "outputs": []
    },
    {
      "cell_type": "code",
      "source": [
        "print(\"\\nquantity Issues:\")\n",
        "print(quantity_issues)"
      ],
      "metadata": {
        "colab": {
          "base_uri": "https://localhost:8080/"
        },
        "id": "piVeZx58fAto",
        "outputId": "2b49fe98-c899-44bf-dd3f-a322973a5d55"
      },
      "execution_count": 33,
      "outputs": [
        {
          "output_type": "stream",
          "name": "stdout",
          "text": [
            "\n",
            "quantity Issues:\n",
            "Empty DataFrame\n",
            "Columns: [order_id, quantity, item_name, choice_description, item_price]\n",
            "Index: []\n"
          ]
        }
      ]
    },
    {
      "cell_type": "code",
      "source": [
        "print(\"\\nitem price Issues:\")\n",
        "print(item_price_issues)"
      ],
      "metadata": {
        "colab": {
          "base_uri": "https://localhost:8080/"
        },
        "id": "8l-UL8zYfKJz",
        "outputId": "4ecae92f-04be-418b-dd44-7774799d64af"
      },
      "execution_count": 34,
      "outputs": [
        {
          "output_type": "stream",
          "name": "stdout",
          "text": [
            "\n",
            "item price Issues:\n",
            "Empty DataFrame\n",
            "Columns: [order_id, quantity, item_name, choice_description, item_price]\n",
            "Index: []\n"
          ]
        }
      ]
    },
    {
      "cell_type": "code",
      "source": [
        "# Correcting issues:\n",
        "# For Quantity issues,  may choose to drop rows with negative or zero values\n",
        "df = df[df['quantity'] > 0]"
      ],
      "metadata": {
        "id": "CRp409OwfTDm"
      },
      "execution_count": 36,
      "outputs": []
    },
    {
      "cell_type": "code",
      "source": [
        "# For Item Price issues, you can replace negative or zero values with NaN or drop the rows\n",
        "df['item price'] = df['item_price'].apply(lambda x: x if x > 0 else None)"
      ],
      "metadata": {
        "id": "KloEFlqsflHV"
      },
      "execution_count": 38,
      "outputs": []
    },
    {
      "cell_type": "code",
      "source": [
        "# Display updated statistics after corrections\n",
        "updated_stats = df[['quantity', 'item_price']].describe()\n",
        "print(\"\\nUpdated Statistics:\")\n",
        "print(updated_stats)"
      ],
      "metadata": {
        "colab": {
          "base_uri": "https://localhost:8080/"
        },
        "id": "jWI2dz_Ef08Y",
        "outputId": "95d78990-8ffa-4487-8572-adfebbed525c"
      },
      "execution_count": 39,
      "outputs": [
        {
          "output_type": "stream",
          "name": "stdout",
          "text": [
            "\n",
            "Updated Statistics:\n",
            "          quantity  item_price\n",
            "count  4563.000000         0.0\n",
            "mean      1.076704         NaN\n",
            "std       0.412739         NaN\n",
            "min       1.000000         NaN\n",
            "25%       1.000000         NaN\n",
            "50%       1.000000         NaN\n",
            "75%       1.000000         NaN\n",
            "max      15.000000         NaN\n"
          ]
        }
      ]
    },
    {
      "cell_type": "code",
      "source": [
        "# Question 5: Choice Description\n",
        "# Handling multiple descriptions for a single item\n",
        "# You may choose to concatenate or select a primary description\n",
        "df['Choice Description'] = df.groupby('item_name')['choice_description'].transform(lambda x: ', '.join(x.dropna()))"
      ],
      "metadata": {
        "id": "IRc_qrJif_Cc"
      },
      "execution_count": 41,
      "outputs": []
    },
    {
      "cell_type": "code",
      "source": [
        "# Display initial sample of 'choice_description' for each 'item_name'\n",
        "print(\"\\nInitial Choices:\")\n",
        "unique_items = df[\"item_name\"].unique()\n",
        "print(unique_items)\n",
        "\n"
      ],
      "metadata": {
        "colab": {
          "base_uri": "https://localhost:8080/"
        },
        "id": "j3e8lwk7gtXD",
        "outputId": "1b95fe13-c461-46a2-94ee-f402311dcafb"
      },
      "execution_count": 43,
      "outputs": [
        {
          "output_type": "stream",
          "name": "stdout",
          "text": [
            "\n",
            "Initial Choices:\n",
            "['Chips and Fresh Tomato Salsa' 'Izze' 'Nantucket Nectar'\n",
            " 'Chips and Tomatillo-Green Chili Salsa' 'Chicken Bowl' 'Side of Chips'\n",
            " 'Steak Burrito' 'Steak Soft Tacos' 'Chips and Guacamole'\n",
            " 'Chicken Crispy Tacos' 'Chicken Soft Tacos' 'Chicken Burrito'\n",
            " 'Canned Soda' 'Barbacoa Burrito' 'Carnitas Burrito' 'Carnitas Bowl'\n",
            " 'Bottled Water' 'Chips and Tomatillo Green Chili Salsa' 'Barbacoa Bowl'\n",
            " 'Chips' 'Chicken Salad Bowl' 'Steak Bowl' 'Barbacoa Soft Tacos'\n",
            " 'Veggie Burrito' 'Veggie Bowl' 'Steak Crispy Tacos'\n",
            " 'Chips and Tomatillo Red Chili Salsa' 'Barbacoa Crispy Tacos'\n",
            " 'Veggie Salad Bowl' 'Chips and Roasted Chili-Corn Salsa'\n",
            " 'Chips and Roasted Chili Corn Salsa' 'Carnitas Soft Tacos'\n",
            " 'Chicken Salad' 'Canned Soft Drink' 'Steak Salad Bowl'\n",
            " '6 Pack Soft Drink' 'Chips and Tomatillo-Red Chili Salsa' 'Bowl'\n",
            " 'Burrito' 'Crispy Tacos' 'Carnitas Crispy Tacos' 'Steak Salad'\n",
            " 'Chips and Mild Fresh Tomato Salsa' 'Veggie Soft Tacos'\n",
            " 'Carnitas Salad Bowl' 'Barbacoa Salad Bowl' 'Salad' 'Veggie Crispy Tacos'\n",
            " 'Veggie Salad' 'Carnitas Salad']\n"
          ]
        }
      ]
    },
    {
      "cell_type": "code",
      "source": [
        "# Group by 'Item Name' and concatenate multiple descriptions into a single string\n",
        "df['Choice Description'] = df.groupby('item_name')['Choice Description'].transform(lambda x: ', '.join(x.dropna()))\n",
        "\n"
      ],
      "metadata": {
        "id": "Rq7fqF4_gxLk"
      },
      "execution_count": 44,
      "outputs": []
    },
    {
      "cell_type": "code",
      "source": [
        "# Display updated sample of 'Choice Description' for each 'Item Name'\n",
        "unique_items_updated = df[['item_name', 'Choice Description']].drop_duplicates()\n",
        "print(\"\\nUpdated Choices:\")\n",
        "print(unique_items_updated)"
      ],
      "metadata": {
        "colab": {
          "base_uri": "https://localhost:8080/"
        },
        "id": "NdRWe130g2Kj",
        "outputId": "df21ac9e-ec7a-4137-df6e-7aa75718ec63"
      },
      "execution_count": 45,
      "outputs": [
        {
          "output_type": "stream",
          "name": "stdout",
          "text": [
            "\n",
            "Updated Choices:\n",
            "                                  item_name  \\\n",
            "0              Chips and Fresh Tomato Salsa   \n",
            "1                                      Izze   \n",
            "2                          Nantucket Nectar   \n",
            "3     Chips and Tomatillo-Green Chili Salsa   \n",
            "4                              Chicken Bowl   \n",
            "6                             Side of Chips   \n",
            "7                             Steak Burrito   \n",
            "8                          Steak Soft Tacos   \n",
            "10                      Chips and Guacamole   \n",
            "11                     Chicken Crispy Tacos   \n",
            "12                       Chicken Soft Tacos   \n",
            "16                          Chicken Burrito   \n",
            "18                              Canned Soda   \n",
            "21                         Barbacoa Burrito   \n",
            "27                         Carnitas Burrito   \n",
            "33                            Carnitas Bowl   \n",
            "34                            Bottled Water   \n",
            "38    Chips and Tomatillo Green Chili Salsa   \n",
            "39                            Barbacoa Bowl   \n",
            "40                                    Chips   \n",
            "44                       Chicken Salad Bowl   \n",
            "54                               Steak Bowl   \n",
            "56                      Barbacoa Soft Tacos   \n",
            "57                           Veggie Burrito   \n",
            "62                              Veggie Bowl   \n",
            "92                       Steak Crispy Tacos   \n",
            "111     Chips and Tomatillo Red Chili Salsa   \n",
            "168                   Barbacoa Crispy Tacos   \n",
            "186                       Veggie Salad Bowl   \n",
            "191      Chips and Roasted Chili-Corn Salsa   \n",
            "233      Chips and Roasted Chili Corn Salsa   \n",
            "237                     Carnitas Soft Tacos   \n",
            "250                           Chicken Salad   \n",
            "263                       Canned Soft Drink   \n",
            "281                        Steak Salad Bowl   \n",
            "298                       6 Pack Soft Drink   \n",
            "300     Chips and Tomatillo-Red Chili Salsa   \n",
            "445                                    Bowl   \n",
            "510                                 Burrito   \n",
            "520                            Crispy Tacos   \n",
            "554                   Carnitas Crispy Tacos   \n",
            "664                             Steak Salad   \n",
            "674       Chips and Mild Fresh Tomato Salsa   \n",
            "738                       Veggie Soft Tacos   \n",
            "1132                    Carnitas Salad Bowl   \n",
            "1229                    Barbacoa Salad Bowl   \n",
            "1414                                  Salad   \n",
            "1653                    Veggie Crispy Tacos   \n",
            "1694                           Veggie Salad   \n",
            "3750                         Carnitas Salad   \n",
            "\n",
            "                                     Choice Description  \n",
            "0     , , , , , , , , , , , , , , , , , , , , , , , ...  \n",
            "1     [Clementine], [Grapefruit], [Blackberry], [Bla...  \n",
            "2     [Apple], [Pomegranate Cherry], [Pineapple Oran...  \n",
            "3     , , , , , , , , , , , , , , , , , , , , , , , ...  \n",
            "4     [Tomatillo-Red Chili Salsa (Hot), [Black Beans...  \n",
            "6     , , , , , , , , , , , , , , , , , , , , , , , ...  \n",
            "7     [Tomatillo Red Chili Salsa, [Fajita Vegetables...  \n",
            "8     [Tomatillo Green Chili Salsa, [Pinto Beans, Ch...  \n",
            "10    , , , , , , , , , , , , , , , , , , , , , , , ...  \n",
            "11    [Roasted Chili Corn Salsa, [Fajita Vegetables,...  \n",
            "12    [Roasted Chili Corn Salsa, [Rice, Black Beans,...  \n",
            "16    [Tomatillo-Green Chili Salsa (Medium), [Pinto ...  \n",
            "18    [Sprite], [Dr. Pepper], [Mountain Dew], [Sprit...  \n",
            "21    [[Fresh Tomato Salsa (Mild), Tomatillo-Green C...  \n",
            "27    [[Tomatillo-Green Chili Salsa (Medium), Roaste...  \n",
            "33    [Tomatillo-Red Chili Salsa (Hot), [Black Beans...  \n",
            "34    , , , , , , , , , , , , , , , , , , , , , , , ...  \n",
            "38    , , , , , , , , , , , , , , , , , , , , , , , ...  \n",
            "39    [Roasted Chili Corn Salsa, [Fajita Vegetables,...  \n",
            "40    , , , , , , , , , , , , , , , , , , , , , , , ...  \n",
            "44    [Fresh Tomato Salsa, [Fajita Vegetables, Pinto...  \n",
            "54    [Fresh Tomato Salsa (Mild), [Black Beans, Rice...  \n",
            "56    [Fresh Tomato Salsa, [Fajita Vegetables, Black...  \n",
            "57    [Tomatillo Red Chili Salsa, [Fajita Vegetables...  \n",
            "62    [Fresh Tomato Salsa, [Fajita Vegetables, Rice,...  \n",
            "92    [Fresh Tomato Salsa, Sour Cream], [[Roasted Ch...  \n",
            "111   , , , , , , , , , , , , , , , , , , , , , , , ...  \n",
            "168   [Tomatillo Red Chili Salsa, [Rice, Black Beans...  \n",
            "186   [Fresh Tomato Salsa, [Fajita Vegetables, Rice,...  \n",
            "191                  , , , , , , , , , , , , , , , , ,   \n",
            "233          , , , , , , , , , , , , , , , , , , , , ,   \n",
            "237   [Tomatillo Green Chili Salsa, [Fajita Vegetabl...  \n",
            "250   [Roasted Chili Corn Salsa (Medium), [Black Bea...  \n",
            "263   [Coke], [Sprite], [Coke], [Coke], [Lemonade], ...  \n",
            "281   [Tomatillo Red Chili Salsa, [Black Beans, Chee...  \n",
            "298   [Sprite], [Diet Coke], [Coke], [Diet Coke], [D...  \n",
            "300                , , , , , , , , , , , , , , , , , ,   \n",
            "445   [Braised Carnitas, Pinto Beans, [Sour Cream, C...  \n",
            "510   [Adobo-Marinated and Grilled Chicken, Pinto Be...  \n",
            "520   [Adobo-Marinated and Grilled Steak], [Adobo-Ma...  \n",
            "554   [Roasted Chili Corn Salsa], [Tomatillo Green C...  \n",
            "664   [Tomatillo-Red Chili Salsa (Hot), [Black Beans...  \n",
            "674                                                      \n",
            "738   [Tomatillo Red Chili Salsa, [Fajita Vegetables...  \n",
            "1132  [Fresh Tomato Salsa, [Rice, Black Beans, Chees...  \n",
            "1229  [Fresh Tomato Salsa, [Rice, Fajita Vegetables,...  \n",
            "1414  [Brown Rice, Adobo-Marinated and Grilled Chick...  \n",
            "1653  [Fresh Tomato Salsa (Mild), [Pinto Beans, Rice...  \n",
            "1694  [[Fresh Tomato Salsa (Mild), Roasted Chili Cor...  \n",
            "3750  [[Fresh Tomato Salsa (Mild), Roasted Chili Cor...  \n"
          ]
        }
      ]
    },
    {
      "cell_type": "code",
      "source": [
        "# Question 6: Handling Special Characters\n",
        "# Checking for and handling special characters\n",
        "# Assuming only Item Name and Choice Description contain text-based columns\n",
        "df[['item_name', 'choice_description']] =df[['item_name', 'choice_description']].replace('[^a-zA-Z0-9\\s]', '', regex=True)"
      ],
      "metadata": {
        "id": "Idhooo8iiHUV"
      },
      "execution_count": 48,
      "outputs": []
    },
    {
      "cell_type": "code",
      "source": [
        "# Question 7: Order Id Integrity\n",
        "# Cross-referencing Order ID column for integrity\n",
        "order_id_check = df.groupby('order_id')['item_name'].nunique()\n",
        "print(\"\\nOrder ID Integrity Check:\")\n",
        "print(order_id_check)"
      ],
      "metadata": {
        "colab": {
          "base_uri": "https://localhost:8080/"
        },
        "id": "3mIpZ0AXjsYT",
        "outputId": "f88efe28-b376-4334-f4c4-161aba579134"
      },
      "execution_count": 51,
      "outputs": [
        {
          "output_type": "stream",
          "name": "stdout",
          "text": [
            "\n",
            "Order ID Integrity Check:\n",
            "order_id\n",
            "1       4\n",
            "2       1\n",
            "3       2\n",
            "4       2\n",
            "5       2\n",
            "       ..\n",
            "1830    2\n",
            "1831    3\n",
            "1832    2\n",
            "1833    1\n",
            "1834    1\n",
            "Name: item_name, Length: 1834, dtype: int64\n"
          ]
        }
      ]
    },
    {
      "cell_type": "code",
      "source": [
        "# Question 8: Item Name Standardization\n",
        "# Standardizing Item Name column\n",
        "df['item_name'] = df['item_name'].str.lower()"
      ],
      "metadata": {
        "id": "TsU5b4bTj_XD"
      },
      "execution_count": 52,
      "outputs": []
    },
    {
      "cell_type": "code",
      "source": [
        "# Question 9: Quantity and Price Relationships\n",
        "# Investigating relationships between Quantity and Item Price\n",
        "# Display initial statistics for Quantity and Item Price columns\n",
        "initial_stats = df[['quantity', 'item_price']].describe()\n",
        "print(\"Initial Statistics:\")\n",
        "print(initial_stats)\n",
        "\n"
      ],
      "metadata": {
        "colab": {
          "base_uri": "https://localhost:8080/"
        },
        "id": "QrFE1jRrkn0d",
        "outputId": "6a4bf866-12e0-4a2f-8433-2d5d8934ffad"
      },
      "execution_count": 54,
      "outputs": [
        {
          "output_type": "stream",
          "name": "stdout",
          "text": [
            "Initial Statistics:\n",
            "          quantity  item_price\n",
            "count  4563.000000         0.0\n",
            "mean      1.076704         NaN\n",
            "std       0.412739         NaN\n",
            "min       1.000000         NaN\n",
            "25%       1.000000         NaN\n",
            "50%       1.000000         NaN\n",
            "75%       1.000000         NaN\n",
            "max      15.000000         NaN\n"
          ]
        }
      ]
    },
    {
      "cell_type": "code",
      "source": [
        "# Calculate Total Price for each item\n",
        "df['total_price'] = df['quantity'] * df['item_price']"
      ],
      "metadata": {
        "id": "FY2N-uyNlzIh"
      },
      "execution_count": 55,
      "outputs": []
    },
    {
      "cell_type": "code",
      "source": [
        "# Display sample of 'Quantity', 'Item Price', and 'Total Price' columns\n",
        "sample_with_total_price = df[['quantity', 'item_price', 'total_price']].head()\n",
        "print(\"\\nSample with toatal_price:\")\n",
        "print(sample_with_total_price)"
      ],
      "metadata": {
        "colab": {
          "base_uri": "https://localhost:8080/"
        },
        "id": "FAoTv5yZl71-",
        "outputId": "ec61a95a-c3b9-47e6-d4bb-3f54a6a3af1d"
      },
      "execution_count": 56,
      "outputs": [
        {
          "output_type": "stream",
          "name": "stdout",
          "text": [
            "\n",
            "Sample with toatal_price:\n",
            "   quantity  item_price  total_price\n",
            "0         1         NaN          NaN\n",
            "1         1         NaN          NaN\n",
            "2         1         NaN          NaN\n",
            "3         1         NaN          NaN\n",
            "4         2         NaN          NaN\n"
          ]
        }
      ]
    },
    {
      "cell_type": "code",
      "source": [
        "# Investigate relationships between Quantity and Item Price\n",
        "# You may want to check for inconsistent relationships, such as negative total prices\n",
        "inconsistent_relationships = df[df['total_price'] < 0]\n",
        "print(\"\\nCases with Negative total_rice:\")\n",
        "print(inconsistent_relationships)"
      ],
      "metadata": {
        "colab": {
          "base_uri": "https://localhost:8080/"
        },
        "id": "xsijhBmYl_2Q",
        "outputId": "8095789b-f17c-4345-bc59-cf75639cd138"
      },
      "execution_count": 57,
      "outputs": [
        {
          "output_type": "stream",
          "name": "stdout",
          "text": [
            "\n",
            "Cases with Negative total_rice:\n",
            "Empty DataFrame\n",
            "Columns: [order_id, quantity, item_name, choice_description, item_price, item price, Choice Description, total_price]\n",
            "Index: []\n"
          ]
        }
      ]
    },
    {
      "cell_type": "code",
      "source": [
        "# Adjustments for accurate analysis\n",
        "# If there are cases with negative total prices, you may need to investigate and decide on appropriate adjustments\n",
        "# For example, replace negative total prices with NaN or drop the corresponding rows\n",
        "\n",
        "# chipotle_df['Total Price'] = chipotle_df['Total Price'].apply(lambda x: x if x >= 0 else None)\n",
        "# or\n",
        "# chipotle_df = chipotle_df[chipotle_df['Total Price'] >= 0]\n",
        "\n",
        "# Display updated statistics after adjustments\n",
        "updated_stats = df[['quantity', 'item_price', 'total_price']].describe()\n",
        "print(\"\\nUpdated Statistics:\")\n",
        "print(updated_stats)"
      ],
      "metadata": {
        "colab": {
          "base_uri": "https://localhost:8080/"
        },
        "id": "DlWsHSMmmGs0",
        "outputId": "fea478a9-b992-4661-afbf-74debe5f87f4"
      },
      "execution_count": 58,
      "outputs": [
        {
          "output_type": "stream",
          "name": "stdout",
          "text": [
            "\n",
            "Updated Statistics:\n",
            "          quantity  item_price  total_price\n",
            "count  4563.000000         0.0          0.0\n",
            "mean      1.076704         NaN          NaN\n",
            "std       0.412739         NaN          NaN\n",
            "min       1.000000         NaN          NaN\n",
            "25%       1.000000         NaN          NaN\n",
            "50%       1.000000         NaN          NaN\n",
            "75%       1.000000         NaN          NaN\n",
            "max      15.000000         NaN          NaN\n"
          ]
        }
      ]
    },
    {
      "cell_type": "code",
      "source": [
        "#Question 9: Quantity and Price Relationships\n",
        "\n",
        "#Investigating relationships between Quantity and Item Price\n",
        "# Display initial statistics for Quantity and Item Price columns\n",
        "initial_stats = df[['quantity', 'item_price']].describe()\n",
        "print(\"Initial Statistics:\")\n",
        "print(initial_stats)"
      ],
      "metadata": {
        "colab": {
          "base_uri": "https://localhost:8080/"
        },
        "id": "IbcWFV3xmPch",
        "outputId": "3ebf57eb-70b5-4681-9bae-ce26eb2915a7"
      },
      "execution_count": 60,
      "outputs": [
        {
          "output_type": "stream",
          "name": "stdout",
          "text": [
            "Initial Statistics:\n",
            "          quantity  item_price\n",
            "count  4563.000000         0.0\n",
            "mean      1.076704         NaN\n",
            "std       0.412739         NaN\n",
            "min       1.000000         NaN\n",
            "25%       1.000000         NaN\n",
            "50%       1.000000         NaN\n",
            "75%       1.000000         NaN\n",
            "max      15.000000         NaN\n"
          ]
        }
      ]
    },
    {
      "cell_type": "code",
      "source": [
        "# Check for negative or zero values in Quantity and Item Price\n",
        "negative_quantity = df[df['quantity'] <= 0]\n",
        "negative_price = df[df['item_price'] <= 0]"
      ],
      "metadata": {
        "id": "EbRPdl2RntFf"
      },
      "execution_count": 63,
      "outputs": []
    },
    {
      "cell_type": "code",
      "source": [
        "print(\"\\nRows with Negative or Zero Quantity:\")\n",
        "print(negative_quantity)\n",
        "\n",
        "print(\"\\nRows with Negative or Zero Item Price:\")\n",
        "print(negative_price)"
      ],
      "metadata": {
        "colab": {
          "base_uri": "https://localhost:8080/"
        },
        "id": "FFABgGs1oG4j",
        "outputId": "5a8db296-8fac-47cd-f49b-fbfe35c90e6b"
      },
      "execution_count": 64,
      "outputs": [
        {
          "output_type": "stream",
          "name": "stdout",
          "text": [
            "\n",
            "Rows with Negative or Zero Quantity:\n",
            "Empty DataFrame\n",
            "Columns: [order_id, quantity, item_name, choice_description, item_price, item price, Choice Description, total_price]\n",
            "Index: []\n",
            "\n",
            "Rows with Negative or Zero Item Price:\n",
            "Empty DataFrame\n",
            "Columns: [order_id, quantity, item_name, choice_description, item_price, item price, Choice Description, total_price]\n",
            "Index: []\n"
          ]
        }
      ]
    },
    {
      "cell_type": "code",
      "source": [
        "print(\"\\nCases with Negative Total Price:\")\n",
        "print(inconsistent_relationships)\n"
      ],
      "metadata": {
        "colab": {
          "base_uri": "https://localhost:8080/"
        },
        "id": "MXEalQj7oN7U",
        "outputId": "cbf78925-e072-4487-b08a-afa5b5254424"
      },
      "execution_count": 65,
      "outputs": [
        {
          "output_type": "stream",
          "name": "stdout",
          "text": [
            "\n",
            "Cases with Negative Total Price:\n",
            "Empty DataFrame\n",
            "Columns: [order_id, quantity, item_name, choice_description, item_price, item price, Choice Description, total_price]\n",
            "Index: []\n"
          ]
        }
      ]
    },
    {
      "cell_type": "code",
      "source": [
        "# Replace negative values with NaN\n",
        "df['quantity'] = df['quantity'].apply(lambda x: x if x > 0 else None)\n",
        "df['item_price'] = df['item_price'].apply(lambda x: x if x > 0 else None)"
      ],
      "metadata": {
        "id": "zHH6CWaPoaF9"
      },
      "execution_count": 66,
      "outputs": []
    },
    {
      "cell_type": "code",
      "source": [
        "# Display updated statistics after adjustments\n",
        "updated_stats = df[['quantity', 'item_price']].describe()\n",
        "print(\"\\nUpdated Statistics after Adjustments:\")\n",
        "print(updated_stats)"
      ],
      "metadata": {
        "colab": {
          "base_uri": "https://localhost:8080/"
        },
        "id": "5R2usuglo4Da",
        "outputId": "5b4121e0-e302-465c-8d0e-f89025cb510f"
      },
      "execution_count": 67,
      "outputs": [
        {
          "output_type": "stream",
          "name": "stdout",
          "text": [
            "\n",
            "Updated Statistics after Adjustments:\n",
            "          quantity\n",
            "count  4563.000000\n",
            "mean      1.076704\n",
            "std       0.412739\n",
            "min       1.000000\n",
            "25%       1.000000\n",
            "50%       1.000000\n",
            "75%       1.000000\n",
            "max      15.000000\n"
          ]
        }
      ]
    },
    {
      "cell_type": "code",
      "source": [
        "#Question 10: Data Integrity Check\n",
        "#Performing a data integrity check\n",
        "## Calculate total prices for each row\n",
        "df['Calculated_total_price'] = df['quantity'] * df['item_price']\n",
        "\n",
        "# Check for discrepancies between calculated and actual total prices\n",
        "price_discrepancies = df[df['Calculated_total_price'] != df['total_price']]\n",
        "\n",
        "# Display rows with discrepancies\n",
        "print(\"Rows with Price Discrepancies:\")\n",
        "print(price_discrepancies[['quantity', 'item_price', 'total_price', 'Calculated_total_price']])\n",
        "\n",
        "# Perform a count of rows with discrepancies\n",
        "discrepancies_count = len(price_discrepancies)\n",
        "print(f\"\\nNumber of Rows with Price Discrepancies: {discrepancies_count}\")\n",
        "\n",
        "# Display a sample of rows with discrepancies\n",
        "sample_discrepancies = price_discrepancies[['quantity', 'item_price', 'total_price', 'Calculated_total_price']].head()\n",
        "print(\"\\nSample of Rows with Price Discrepancies:\")\n",
        "print(sample_discrepancies)"
      ],
      "metadata": {
        "colab": {
          "base_uri": "https://localhost:8080/"
        },
        "id": "SizzeWc1mlbi",
        "outputId": "74be8308-42d6-405c-b28b-4d153f0aaff4"
      },
      "execution_count": 71,
      "outputs": [
        {
          "output_type": "stream",
          "name": "stdout",
          "text": [
            "Rows with Price Discrepancies:\n",
            "      quantity item_price  total_price Calculated_total_price\n",
            "0            1       None          NaN                   None\n",
            "1            1       None          NaN                   None\n",
            "2            1       None          NaN                   None\n",
            "3            1       None          NaN                   None\n",
            "4            2       None          NaN                   None\n",
            "...        ...        ...          ...                    ...\n",
            "4617         1       None          NaN                   None\n",
            "4618         1       None          NaN                   None\n",
            "4619         1       None          NaN                   None\n",
            "4620         1       None          NaN                   None\n",
            "4621         1       None          NaN                   None\n",
            "\n",
            "[4563 rows x 4 columns]\n",
            "\n",
            "Number of Rows with Price Discrepancies: 4563\n",
            "\n",
            "Sample of Rows with Price Discrepancies:\n",
            "   quantity item_price  total_price Calculated_total_price\n",
            "0         1       None          NaN                    NaN\n",
            "1         1       None          NaN                    NaN\n",
            "2         1       None          NaN                    NaN\n",
            "3         1       None          NaN                    NaN\n",
            "4         2       None          NaN                    NaN\n"
          ]
        }
      ]
    },
    {
      "cell_type": "code",
      "source": [
        "#Question 12: Handling Categorical Data\n",
        "#Encoding or transforming categorical columns\n",
        "#Assuming 'Item Name' is a categorical column\n",
        "df['item_name'] = df['item_name'].astype('category')\n",
        "encoded_item_name = df['item_name'].cat.codes\n",
        "print(\"\\nEncoded Item Name:\")\n",
        "print(encoded_item_name)"
      ],
      "metadata": {
        "colab": {
          "base_uri": "https://localhost:8080/"
        },
        "id": "d8cIWhySmuJn",
        "outputId": "55da869c-6871-4b95-ab11-2a11b80b7047"
      },
      "execution_count": 75,
      "outputs": [
        {
          "output_type": "stream",
          "name": "stdout",
          "text": [
            "\n",
            "Encoded Item Name:\n",
            "0       24\n",
            "1       34\n",
            "2       35\n",
            "3       31\n",
            "4       17\n",
            "        ..\n",
            "4617    39\n",
            "4618    39\n",
            "4619    21\n",
            "4620    21\n",
            "4621    21\n",
            "Length: 4563, dtype: int8\n"
          ]
        }
      ]
    }
  ]
}